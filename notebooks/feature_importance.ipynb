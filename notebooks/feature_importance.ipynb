{
 "cells": [
  {
   "cell_type": "code",
   "execution_count": 1,
   "metadata": {},
   "outputs": [
    {
     "name": "stdout",
     "output_type": "stream",
     "text": [
      "INFO:root:running install\n",
      "/usr/local/lib/python3.8/dist-packages/setuptools/command/install.py:34: SetuptoolsDeprecationWarning: setup.py install is deprecated. Use build and pip and other standards-based tools.\n",
      "  warnings.warn(\n",
      "INFO:root:running build\n",
      "INFO:root:running build_py\n",
      "INFO:root:running egg_info\n",
      "INFO:root:writing lightgbm.egg-info/PKG-INFO\n",
      "INFO:root:writing dependency_links to lightgbm.egg-info/dependency_links.txt\n",
      "INFO:root:writing requirements to lightgbm.egg-info/requires.txt\n",
      "INFO:root:writing top-level names to lightgbm.egg-info/top_level.txt\n",
      "INFO:root:reading manifest file 'lightgbm.egg-info/SOURCES.txt'\n",
      "INFO:root:reading manifest template 'MANIFEST.in'\n",
      "WARNING:root:no previously-included directories found matching 'build'\n",
      "WARNING:root:warning: no files found matching 'LICENSE'\n",
      "WARNING:root:warning: no files found matching '*.txt'\n",
      "WARNING:root:warning: no files found matching '*.so' under directory 'lightgbm'\n",
      "WARNING:root:warning: no files found matching 'compile/CMakeLists.txt'\n",
      "WARNING:root:warning: no files found matching 'compile/cmake/IntegratedOpenCL.cmake'\n",
      "WARNING:root:warning: no files found matching '*.so' under directory 'compile'\n",
      "WARNING:root:warning: no files found matching '*.dll' under directory 'compile/Release'\n",
      "WARNING:root:warning: no files found matching 'compile/external_libs/compute/CMakeLists.txt'\n",
      "WARNING:root:warning: no files found matching '*' under directory 'compile/external_libs/compute/cmake'\n",
      "WARNING:root:warning: no files found matching '*' under directory 'compile/external_libs/compute/include'\n",
      "WARNING:root:warning: no files found matching '*' under directory 'compile/external_libs/compute/meta'\n",
      "WARNING:root:warning: no files found matching 'compile/external_libs/eigen/CMakeLists.txt'\n",
      "WARNING:root:warning: no files found matching 'compile/external_libs/eigen/Eigen/Cholesky'\n",
      "WARNING:root:warning: no files found matching 'compile/external_libs/eigen/Eigen/Core'\n",
      "WARNING:root:warning: no files found matching 'compile/external_libs/eigen/Eigen/Dense'\n",
      "WARNING:root:warning: no files found matching 'compile/external_libs/eigen/Eigen/Eigenvalues'\n",
      "WARNING:root:warning: no files found matching 'compile/external_libs/eigen/Eigen/Geometry'\n",
      "WARNING:root:warning: no files found matching 'compile/external_libs/eigen/Eigen/Householder'\n",
      "WARNING:root:warning: no files found matching 'compile/external_libs/eigen/Eigen/Jacobi'\n",
      "WARNING:root:warning: no files found matching 'compile/external_libs/eigen/Eigen/LU'\n",
      "WARNING:root:warning: no files found matching 'compile/external_libs/eigen/Eigen/QR'\n",
      "WARNING:root:warning: no files found matching 'compile/external_libs/eigen/Eigen/SVD'\n",
      "WARNING:root:warning: no files found matching '*' under directory 'compile/external_libs/eigen/Eigen/src/Cholesky'\n",
      "WARNING:root:warning: no files found matching '*' under directory 'compile/external_libs/eigen/Eigen/src/Core'\n",
      "WARNING:root:warning: no files found matching '*' under directory 'compile/external_libs/eigen/Eigen/src/Eigenvalues'\n",
      "WARNING:root:warning: no files found matching '*' under directory 'compile/external_libs/eigen/Eigen/src/Geometry'\n",
      "WARNING:root:warning: no files found matching '*' under directory 'compile/external_libs/eigen/Eigen/src/Householder'\n",
      "WARNING:root:warning: no files found matching '*' under directory 'compile/external_libs/eigen/Eigen/src/Jacobi'\n",
      "WARNING:root:warning: no files found matching '*' under directory 'compile/external_libs/eigen/Eigen/src/LU'\n",
      "WARNING:root:warning: no files found matching '*' under directory 'compile/external_libs/eigen/Eigen/src/misc'\n",
      "WARNING:root:warning: no files found matching '*' under directory 'compile/external_libs/eigen/Eigen/src/plugins'\n",
      "WARNING:root:warning: no files found matching '*' under directory 'compile/external_libs/eigen/Eigen/src/QR'\n",
      "WARNING:root:warning: no files found matching '*' under directory 'compile/external_libs/eigen/Eigen/src/SVD'\n",
      "WARNING:root:warning: no files found matching 'compile/external_libs/fast_double_parser/CMakeLists.txt'\n",
      "WARNING:root:warning: no files found matching 'compile/external_libs/fast_double_parser/LICENSE'\n",
      "WARNING:root:warning: no files found matching 'compile/external_libs/fast_double_parser/LICENSE.BSL'\n",
      "WARNING:root:warning: no files found matching '*' under directory 'compile/external_libs/fast_double_parser/include'\n",
      "WARNING:root:warning: no files found matching 'compile/external_libs/fmt/CMakeLists.txt'\n",
      "WARNING:root:warning: no files found matching 'compile/external_libs/fmt/LICENSE.rst'\n",
      "WARNING:root:warning: no files found matching '*' under directory 'compile/external_libs/fmt/include'\n",
      "WARNING:root:warning: no files found matching '*' under directory 'compile/include'\n",
      "WARNING:root:warning: no files found matching '*' under directory 'compile/src'\n",
      "WARNING:root:warning: no files found matching 'LightGBM.sln' under directory 'compile/windows'\n",
      "WARNING:root:warning: no files found matching 'LightGBM.vcxproj' under directory 'compile/windows'\n",
      "WARNING:root:warning: no files found matching '*.dll' under directory 'compile/windows/x64/DLL'\n",
      "WARNING:root:warning: no previously-included files matching '*.py[co]' found anywhere in distribution\n",
      "WARNING:root:warning: no previously-included files found matching 'compile/external_libs/compute/.git'\n",
      "INFO:root:writing manifest file 'lightgbm.egg-info/SOURCES.txt'\n",
      "INFO:root:copying lightgbm/VERSION.txt -> build/lib/lightgbm\n",
      "INFO:root:running install_lib\n",
      "INFO:root:copying build/lib/lightgbm/VERSION.txt -> /usr/lib/python3.8/site-packages/lightgbm\n",
      "INFO:LightGBM:Installing lib_lightgbm from: ['/home/ubuntu/project/LightGBM/lib_lightgbm.so']\n",
      "INFO:root:running install_egg_info\n",
      "INFO:root:removing '/usr/lib/python3.8/site-packages/lightgbm-3.3.3.99-py3.8.egg-info' (and everything under it)\n",
      "INFO:root:Copying lightgbm.egg-info to /usr/lib/python3.8/site-packages/lightgbm-3.3.3.99-py3.8.egg-info\n",
      "INFO:root:running install_scripts\n"
     ]
    }
   ],
   "source": [
    "! cd ../../../LightGBM/python-package && sudo python setup.py install --precompile && \\\n",
    "    cd ../../wec/ticket-upgrade-prediction"
   ]
  },
  {
   "cell_type": "code",
   "execution_count": 22,
   "metadata": {},
   "outputs": [],
   "source": [
    "import pandas as pd\n",
    "from pathlib import Path\n",
    "# import lightgbm as lgbm\n",
    "from sklearn.model_selection import train_test_split\n",
    "from sklearn.metrics import roc_auc_score\n",
    "\n",
    "from xgboost import XGBClassifier\n",
    "from sklearn.feature_selection import RFE, SequentialFeatureSelector\n",
    "import numpy as np"
   ]
  },
  {
   "cell_type": "code",
   "execution_count": 2,
   "metadata": {},
   "outputs": [],
   "source": [
    "df_path = Path.cwd().parents[0] / \"data\" / \"dataset.csv\""
   ]
  },
  {
   "cell_type": "code",
   "execution_count": 3,
   "metadata": {},
   "outputs": [],
   "source": [
    "df = pd.read_csv(df_path)"
   ]
  },
  {
   "cell_type": "code",
   "execution_count": 4,
   "metadata": {},
   "outputs": [],
   "source": [
    "y = df[\"UPGRADED_FLAG\"]\n",
    "X = df.drop(columns=\"UPGRADED_FLAG\")"
   ]
  },
  {
   "cell_type": "code",
   "execution_count": 8,
   "metadata": {},
   "outputs": [],
   "source": [
    "X_train, X_test, y_train, y_test = train_test_split(\n",
    "    X, y, test_size=0.20, random_state=42)"
   ]
  },
  {
   "cell_type": "code",
   "execution_count": 39,
   "metadata": {},
   "outputs": [
    {
     "name": "stdout",
     "output_type": "stream",
     "text": [
      "[LightGBM] [Warning] Found whitespace in feature_names, replace with underlines\n",
      "[LightGBM] [Info] Number of positive: 7061, number of negative: 7363690\n",
      "[LightGBM] [Warning] Auto-choosing row-wise multi-threading, the overhead of testing was 0.389262 seconds.\n",
      "You can set `force_row_wise=true` to remove the overhead.\n",
      "And if memory is not enough, you can set `force_col_wise=true`.\n",
      "[LightGBM] [Info] Total Bins 1613\n",
      "[LightGBM] [Info] Number of data points in the train set: 7370751, number of used features: 38\n",
      "[LightGBM] [Info] [binary:BoostFromScore]: pavg=0.000958 -> initscore=-6.949730\n",
      "[LightGBM] [Info] Start training from score -6.949730\n"
     ]
    },
    {
     "data": {
      "text/html": [
       "<style>#sk-container-id-4 {color: black;background-color: white;}#sk-container-id-4 pre{padding: 0;}#sk-container-id-4 div.sk-toggleable {background-color: white;}#sk-container-id-4 label.sk-toggleable__label {cursor: pointer;display: block;width: 100%;margin-bottom: 0;padding: 0.3em;box-sizing: border-box;text-align: center;}#sk-container-id-4 label.sk-toggleable__label-arrow:before {content: \"▸\";float: left;margin-right: 0.25em;color: #696969;}#sk-container-id-4 label.sk-toggleable__label-arrow:hover:before {color: black;}#sk-container-id-4 div.sk-estimator:hover label.sk-toggleable__label-arrow:before {color: black;}#sk-container-id-4 div.sk-toggleable__content {max-height: 0;max-width: 0;overflow: hidden;text-align: left;background-color: #f0f8ff;}#sk-container-id-4 div.sk-toggleable__content pre {margin: 0.2em;color: black;border-radius: 0.25em;background-color: #f0f8ff;}#sk-container-id-4 input.sk-toggleable__control:checked~div.sk-toggleable__content {max-height: 200px;max-width: 100%;overflow: auto;}#sk-container-id-4 input.sk-toggleable__control:checked~label.sk-toggleable__label-arrow:before {content: \"▾\";}#sk-container-id-4 div.sk-estimator input.sk-toggleable__control:checked~label.sk-toggleable__label {background-color: #d4ebff;}#sk-container-id-4 div.sk-label input.sk-toggleable__control:checked~label.sk-toggleable__label {background-color: #d4ebff;}#sk-container-id-4 input.sk-hidden--visually {border: 0;clip: rect(1px 1px 1px 1px);clip: rect(1px, 1px, 1px, 1px);height: 1px;margin: -1px;overflow: hidden;padding: 0;position: absolute;width: 1px;}#sk-container-id-4 div.sk-estimator {font-family: monospace;background-color: #f0f8ff;border: 1px dotted black;border-radius: 0.25em;box-sizing: border-box;margin-bottom: 0.5em;}#sk-container-id-4 div.sk-estimator:hover {background-color: #d4ebff;}#sk-container-id-4 div.sk-parallel-item::after {content: \"\";width: 100%;border-bottom: 1px solid gray;flex-grow: 1;}#sk-container-id-4 div.sk-label:hover label.sk-toggleable__label {background-color: #d4ebff;}#sk-container-id-4 div.sk-serial::before {content: \"\";position: absolute;border-left: 1px solid gray;box-sizing: border-box;top: 0;bottom: 0;left: 50%;z-index: 0;}#sk-container-id-4 div.sk-serial {display: flex;flex-direction: column;align-items: center;background-color: white;padding-right: 0.2em;padding-left: 0.2em;position: relative;}#sk-container-id-4 div.sk-item {position: relative;z-index: 1;}#sk-container-id-4 div.sk-parallel {display: flex;align-items: stretch;justify-content: center;background-color: white;position: relative;}#sk-container-id-4 div.sk-item::before, #sk-container-id-4 div.sk-parallel-item::before {content: \"\";position: absolute;border-left: 1px solid gray;box-sizing: border-box;top: 0;bottom: 0;left: 50%;z-index: -1;}#sk-container-id-4 div.sk-parallel-item {display: flex;flex-direction: column;z-index: 1;position: relative;background-color: white;}#sk-container-id-4 div.sk-parallel-item:first-child::after {align-self: flex-end;width: 50%;}#sk-container-id-4 div.sk-parallel-item:last-child::after {align-self: flex-start;width: 50%;}#sk-container-id-4 div.sk-parallel-item:only-child::after {width: 0;}#sk-container-id-4 div.sk-dashed-wrapped {border: 1px dashed gray;margin: 0 0.4em 0.5em 0.4em;box-sizing: border-box;padding-bottom: 0.4em;background-color: white;}#sk-container-id-4 div.sk-label label {font-family: monospace;font-weight: bold;display: inline-block;line-height: 1.2em;}#sk-container-id-4 div.sk-label-container {text-align: center;}#sk-container-id-4 div.sk-container {/* jupyter's `normalize.less` sets `[hidden] { display: none; }` but bootstrap.min.css set `[hidden] { display: none !important; }` so we also need the `!important` here to be able to override the default hidden behavior on the sphinx rendered scikit-learn.org. See: https://github.com/scikit-learn/scikit-learn/issues/21755 */display: inline-block !important;position: relative;}#sk-container-id-4 div.sk-text-repr-fallback {display: none;}</style><div id=\"sk-container-id-4\" class=\"sk-top-container\"><div class=\"sk-text-repr-fallback\"><pre>LGBMClassifier(n_estimators=1000)</pre><b>In a Jupyter environment, please rerun this cell to show the HTML representation or trust the notebook. <br />On GitHub, the HTML representation is unable to render, please try loading this page with nbviewer.org.</b></div><div class=\"sk-container\" hidden><div class=\"sk-item\"><div class=\"sk-estimator sk-toggleable\"><input class=\"sk-toggleable__control sk-hidden--visually\" id=\"sk-estimator-id-4\" type=\"checkbox\" checked><label for=\"sk-estimator-id-4\" class=\"sk-toggleable__label sk-toggleable__label-arrow\">LGBMClassifier</label><div class=\"sk-toggleable__content\"><pre>LGBMClassifier(n_estimators=1000)</pre></div></div></div></div></div>"
      ],
      "text/plain": [
       "LGBMClassifier(n_estimators=1000)"
      ]
     },
     "execution_count": 39,
     "metadata": {},
     "output_type": "execute_result"
    }
   ],
   "source": [
    "model = lgbm.LGBMClassifier(n_estimators=1000)\n",
    "model.fit(X_train, y_train)"
   ]
  },
  {
   "cell_type": "code",
   "execution_count": 34,
   "metadata": {},
   "outputs": [],
   "source": [
    "proba = model.predict_proba(X_test)[:, 1]\n",
    "auc = roc_auc_score(y_true=y_test, y_score=proba)"
   ]
  },
  {
   "cell_type": "code",
   "execution_count": 35,
   "metadata": {},
   "outputs": [
    {
     "data": {
      "text/plain": [
       "0.9491658051079647"
      ]
     },
     "execution_count": 35,
     "metadata": {},
     "output_type": "execute_result"
    }
   ],
   "source": [
    "auc"
   ]
  },
  {
   "cell_type": "code",
   "execution_count": 18,
   "metadata": {},
   "outputs": [
    {
     "data": {
      "text/html": [
       "<style>#sk-container-id-8 {color: black;background-color: white;}#sk-container-id-8 pre{padding: 0;}#sk-container-id-8 div.sk-toggleable {background-color: white;}#sk-container-id-8 label.sk-toggleable__label {cursor: pointer;display: block;width: 100%;margin-bottom: 0;padding: 0.3em;box-sizing: border-box;text-align: center;}#sk-container-id-8 label.sk-toggleable__label-arrow:before {content: \"▸\";float: left;margin-right: 0.25em;color: #696969;}#sk-container-id-8 label.sk-toggleable__label-arrow:hover:before {color: black;}#sk-container-id-8 div.sk-estimator:hover label.sk-toggleable__label-arrow:before {color: black;}#sk-container-id-8 div.sk-toggleable__content {max-height: 0;max-width: 0;overflow: hidden;text-align: left;background-color: #f0f8ff;}#sk-container-id-8 div.sk-toggleable__content pre {margin: 0.2em;color: black;border-radius: 0.25em;background-color: #f0f8ff;}#sk-container-id-8 input.sk-toggleable__control:checked~div.sk-toggleable__content {max-height: 200px;max-width: 100%;overflow: auto;}#sk-container-id-8 input.sk-toggleable__control:checked~label.sk-toggleable__label-arrow:before {content: \"▾\";}#sk-container-id-8 div.sk-estimator input.sk-toggleable__control:checked~label.sk-toggleable__label {background-color: #d4ebff;}#sk-container-id-8 div.sk-label input.sk-toggleable__control:checked~label.sk-toggleable__label {background-color: #d4ebff;}#sk-container-id-8 input.sk-hidden--visually {border: 0;clip: rect(1px 1px 1px 1px);clip: rect(1px, 1px, 1px, 1px);height: 1px;margin: -1px;overflow: hidden;padding: 0;position: absolute;width: 1px;}#sk-container-id-8 div.sk-estimator {font-family: monospace;background-color: #f0f8ff;border: 1px dotted black;border-radius: 0.25em;box-sizing: border-box;margin-bottom: 0.5em;}#sk-container-id-8 div.sk-estimator:hover {background-color: #d4ebff;}#sk-container-id-8 div.sk-parallel-item::after {content: \"\";width: 100%;border-bottom: 1px solid gray;flex-grow: 1;}#sk-container-id-8 div.sk-label:hover label.sk-toggleable__label {background-color: #d4ebff;}#sk-container-id-8 div.sk-serial::before {content: \"\";position: absolute;border-left: 1px solid gray;box-sizing: border-box;top: 0;bottom: 0;left: 50%;z-index: 0;}#sk-container-id-8 div.sk-serial {display: flex;flex-direction: column;align-items: center;background-color: white;padding-right: 0.2em;padding-left: 0.2em;position: relative;}#sk-container-id-8 div.sk-item {position: relative;z-index: 1;}#sk-container-id-8 div.sk-parallel {display: flex;align-items: stretch;justify-content: center;background-color: white;position: relative;}#sk-container-id-8 div.sk-item::before, #sk-container-id-8 div.sk-parallel-item::before {content: \"\";position: absolute;border-left: 1px solid gray;box-sizing: border-box;top: 0;bottom: 0;left: 50%;z-index: -1;}#sk-container-id-8 div.sk-parallel-item {display: flex;flex-direction: column;z-index: 1;position: relative;background-color: white;}#sk-container-id-8 div.sk-parallel-item:first-child::after {align-self: flex-end;width: 50%;}#sk-container-id-8 div.sk-parallel-item:last-child::after {align-self: flex-start;width: 50%;}#sk-container-id-8 div.sk-parallel-item:only-child::after {width: 0;}#sk-container-id-8 div.sk-dashed-wrapped {border: 1px dashed gray;margin: 0 0.4em 0.5em 0.4em;box-sizing: border-box;padding-bottom: 0.4em;background-color: white;}#sk-container-id-8 div.sk-label label {font-family: monospace;font-weight: bold;display: inline-block;line-height: 1.2em;}#sk-container-id-8 div.sk-label-container {text-align: center;}#sk-container-id-8 div.sk-container {/* jupyter's `normalize.less` sets `[hidden] { display: none; }` but bootstrap.min.css set `[hidden] { display: none !important; }` so we also need the `!important` here to be able to override the default hidden behavior on the sphinx rendered scikit-learn.org. See: https://github.com/scikit-learn/scikit-learn/issues/21755 */display: inline-block !important;position: relative;}#sk-container-id-8 div.sk-text-repr-fallback {display: none;}</style><div id=\"sk-container-id-8\" class=\"sk-top-container\"><div class=\"sk-text-repr-fallback\"><pre>XGBClassifier(base_score=0.5, booster=&#x27;gbtree&#x27;, callbacks=None,\n",
       "              colsample_bylevel=1, colsample_bynode=1, colsample_bytree=1,\n",
       "              early_stopping_rounds=None, enable_categorical=False,\n",
       "              eval_metric=None, feature_types=None, gamma=0, gpu_id=0,\n",
       "              grow_policy=&#x27;depthwise&#x27;, importance_type=None,\n",
       "              interaction_constraints=&#x27;&#x27;, learning_rate=0.300000012,\n",
       "              max_bin=256, max_cat_threshold=64, max_cat_to_onehot=4,\n",
       "              max_delta_step=0, max_depth=6, max_leaves=0, min_child_weight=1,\n",
       "              missing=nan, monotone_constraints=&#x27;()&#x27;, n_estimators=100,\n",
       "              n_jobs=0, num_parallel_tree=1, predictor=&#x27;auto&#x27;, random_state=0, ...)</pre><b>In a Jupyter environment, please rerun this cell to show the HTML representation or trust the notebook. <br />On GitHub, the HTML representation is unable to render, please try loading this page with nbviewer.org.</b></div><div class=\"sk-container\" hidden><div class=\"sk-item\"><div class=\"sk-estimator sk-toggleable\"><input class=\"sk-toggleable__control sk-hidden--visually\" id=\"sk-estimator-id-8\" type=\"checkbox\" checked><label for=\"sk-estimator-id-8\" class=\"sk-toggleable__label sk-toggleable__label-arrow\">XGBClassifier</label><div class=\"sk-toggleable__content\"><pre>XGBClassifier(base_score=0.5, booster=&#x27;gbtree&#x27;, callbacks=None,\n",
       "              colsample_bylevel=1, colsample_bynode=1, colsample_bytree=1,\n",
       "              early_stopping_rounds=None, enable_categorical=False,\n",
       "              eval_metric=None, feature_types=None, gamma=0, gpu_id=0,\n",
       "              grow_policy=&#x27;depthwise&#x27;, importance_type=None,\n",
       "              interaction_constraints=&#x27;&#x27;, learning_rate=0.300000012,\n",
       "              max_bin=256, max_cat_threshold=64, max_cat_to_onehot=4,\n",
       "              max_delta_step=0, max_depth=6, max_leaves=0, min_child_weight=1,\n",
       "              missing=nan, monotone_constraints=&#x27;()&#x27;, n_estimators=100,\n",
       "              n_jobs=0, num_parallel_tree=1, predictor=&#x27;auto&#x27;, random_state=0, ...)</pre></div></div></div></div></div>"
      ],
      "text/plain": [
       "XGBClassifier(base_score=0.5, booster='gbtree', callbacks=None,\n",
       "              colsample_bylevel=1, colsample_bynode=1, colsample_bytree=1,\n",
       "              early_stopping_rounds=None, enable_categorical=False,\n",
       "              eval_metric=None, feature_types=None, gamma=0, gpu_id=0,\n",
       "              grow_policy='depthwise', importance_type=None,\n",
       "              interaction_constraints='', learning_rate=0.300000012,\n",
       "              max_bin=256, max_cat_threshold=64, max_cat_to_onehot=4,\n",
       "              max_delta_step=0, max_depth=6, max_leaves=0, min_child_weight=1,\n",
       "              missing=nan, monotone_constraints='()', n_estimators=100,\n",
       "              n_jobs=0, num_parallel_tree=1, predictor='auto', random_state=0, ...)"
      ]
     },
     "execution_count": 18,
     "metadata": {},
     "output_type": "execute_result"
    }
   ],
   "source": [
    "xgb_model = XGBClassifier(\n",
    "    tree_method=\"gpu_hist\", gpu_id=0, verbosity=2, n_estimators=100\n",
    ")\n",
    "xgb_model.fit(X_train, y_train)\n"
   ]
  },
  {
   "cell_type": "code",
   "execution_count": 46,
   "metadata": {},
   "outputs": [],
   "source": [
    "proba_xgb = xgb_model.predict_proba(X_test)[:, 1]\n",
    "auc_xgb = roc_auc_score(y_true=y_test, y_score=proba_xgb)"
   ]
  },
  {
   "cell_type": "code",
   "execution_count": 47,
   "metadata": {},
   "outputs": [
    {
     "data": {
      "text/plain": [
       "0.9744132249804485"
      ]
     },
     "execution_count": 47,
     "metadata": {},
     "output_type": "execute_result"
    }
   ],
   "source": [
    "auc_xgb"
   ]
  },
  {
   "cell_type": "code",
   "execution_count": 51,
   "metadata": {},
   "outputs": [],
   "source": [
    "features_len = X_train.shape[1]"
   ]
  },
  {
   "cell_type": "code",
   "execution_count": 15,
   "metadata": {},
   "outputs": [],
   "source": [
    "X_sample = X.head(1000)\n",
    "y_sample = y.head(1000)"
   ]
  },
  {
   "cell_type": "code",
   "execution_count": 19,
   "metadata": {},
   "outputs": [],
   "source": [
    "sfs = SequentialFeatureSelector(\n",
    "    estimator=XGBClassifier(tree_method=\"gpu_hist\", verbosity=2),\n",
    "    direction=\"backward\",\n",
    "    n_features_to_select=\"auto\", \n",
    "    tol=2, \n",
    "    scoring=\"roc_auc\", \n",
    "    cv=5,\n",
    ")\n"
   ]
  },
  {
   "cell_type": "code",
   "execution_count": 21,
   "metadata": {},
   "outputs": [],
   "source": [
    "# sfs.fit(X=X_sample, y=y_sample)"
   ]
  },
  {
   "cell_type": "code",
   "execution_count": 28,
   "metadata": {},
   "outputs": [],
   "source": [
    "def _get_auc(model, X_test: pd.DataFrame, y_test: pd.Series) -> float:\n",
    "    proba = model.predict_proba(X_test)[:, 1]\n",
    "    return roc_auc_score(y_true=y_test, y_score=proba)\n",
    "\n",
    "\n",
    "def permutation_feature_importance(\n",
    "    model, X_test: pd.DataFrame, y_test: pd.Series\n",
    ") -> dict:\n",
    "    features_score_diff = {}\n",
    "    baseline = _get_auc(model=model, X_test=X_test, y_test=y_test)\n",
    "\n",
    "    for col in X.columns:\n",
    "        X_changed = X_test.copy()\n",
    "        X_changed[col] = np.random.permutation(X_changed[col].values)\n",
    "        auc = _get_auc(model=model, X_test=X_changed, y_test=y_test)\n",
    "        features_score_diff[col] = baseline - auc\n",
    "\n",
    "    return {\n",
    "        k: v\n",
    "        for k, v in sorted(\n",
    "            features_score_diff.items(), key=lambda item: item[1]\n",
    "        )\n",
    "    }\n"
   ]
  },
  {
   "cell_type": "code",
   "execution_count": 29,
   "metadata": {},
   "outputs": [],
   "source": [
    "permutations = permutation_feature_importance(\n",
    "    model=xgb_model, X_test=X_test, y_test=y_test\n",
    ")\n"
   ]
  },
  {
   "cell_type": "code",
   "execution_count": 30,
   "metadata": {},
   "outputs": [
    {
     "data": {
      "text/plain": [
       "{'BOOKING_DOMESTIC_FLAG': 0.0,\n",
       " 'is_sus_currency': 0.0,\n",
       " 'FLIGHT_RANGE_LONG-HAUL': 0.0,\n",
       " 'FLIGHT_RANGE_SHORT-HAUL': 0.0,\n",
       " 'FLIGHT_RANGE_UNKNOWN': 0.0,\n",
       " 'PAX_TYPE_INFANT': 0.0,\n",
       " 'SALES_CHANNEL_DCS': 0.0,\n",
       " 'TRIP_TYPE_ONE WAY': 5.7375782791524443e-08,\n",
       " 'PAX_TYPE_CHILD': 1.2348266276163145e-07,\n",
       " 'VAB_SEMI-FLEX': 2.4097049150739736e-05,\n",
       " 'SALES_CHANNEL_ATO_CTO': 2.7208593972316564e-05,\n",
       " 'SALES_CHANNEL_LOT TRAVEL': 6.141017327987441e-05,\n",
       " 'CORPORATE_CONTRACT_FLG': 7.573229119905989e-05,\n",
       " 'VAB_FULL-FLEX': 0.00019063400019081467,\n",
       " 'BOOKING_LONG_HOUL_FLAG': 0.0002329371023734872,\n",
       " 'SALES_CHANNEL_CALL CENTER': 0.0002334873174195673,\n",
       " 'is_sus_payment': 0.00036422973162109074,\n",
       " 'VAB_STANDARD': 0.0004016265807375019,\n",
       " 'VAB_FLEX': 0.0004236705747088232,\n",
       " 'PAX_GENDER': 0.0005560789134692046,\n",
       " 'LOYAL_CUSTOMER': 0.0005574002715069692,\n",
       " 'VAB_OTHER': 0.0005635744046400548,\n",
       " 'SALES_CHANNEL_LOT.COM': 0.0006189811689227831,\n",
       " 'same_carrier': 0.0006592563178310362,\n",
       " 'TRIP_TYPE_ROUND TRIP': 0.0007141976834421637,\n",
       " 'COUPON_NUMBER': 0.0008877556840589662,\n",
       " 'TIME_DEPARTURE_LOCAL_TIME': 0.001476150415718247,\n",
       " 'if_additional_upgrade': 0.0018755282711481192,\n",
       " 'BOOKED_CABIN_Economy': 0.002466806759535367,\n",
       " 'is_sus_aircraft': 0.002555738131255425,\n",
       " 'VAB_SAVER': 0.002743440353682569,\n",
       " 'intinerary_len': 0.0029682121649874382,\n",
       " 'sale_to_flight_time': 0.003058378051509103,\n",
       " 'BOOKING_WINDOW_D': 0.003386208773711874,\n",
       " 'flight_len': 0.003824866744776112,\n",
       " 'PAX_N': 0.0055338689787558515,\n",
       " 'STAY_LENGTH_D': 0.00880443561523736,\n",
       " 'BOOKED_CABIN_Premium': 0.013729427175665165,\n",
       " 'TOTAL_PRICE_PLN': 0.02063203505129474,\n",
       " 'FLIGHT_DISTANCE': 0.19029710752477247}"
      ]
     },
     "execution_count": 30,
     "metadata": {},
     "output_type": "execute_result"
    }
   ],
   "source": [
    "permutations"
   ]
  },
  {
   "cell_type": "code",
   "execution_count": null,
   "metadata": {},
   "outputs": [],
   "source": []
  }
 ],
 "metadata": {
  "kernelspec": {
   "display_name": "Python 3.8.10 64-bit",
   "language": "python",
   "name": "python3"
  },
  "language_info": {
   "codemirror_mode": {
    "name": "ipython",
    "version": 3
   },
   "file_extension": ".py",
   "mimetype": "text/x-python",
   "name": "python",
   "nbconvert_exporter": "python",
   "pygments_lexer": "ipython3",
   "version": "3.8.10"
  },
  "orig_nbformat": 4,
  "vscode": {
   "interpreter": {
    "hash": "e7370f93d1d0cde622a1f8e1c04877d8463912d04d973331ad4851f04de6915a"
   }
  }
 },
 "nbformat": 4,
 "nbformat_minor": 2
}
